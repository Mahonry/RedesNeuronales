{
  "nbformat": 4,
  "nbformat_minor": 0,
  "metadata": {
    "colab": {
      "name": "Proyecto_Precios_Vehiculos_Usados.ipynb",
      "provenance": [],
      "machine_shape": "hm",
      "include_colab_link": true
    },
    "kernelspec": {
      "name": "python3",
      "display_name": "Python 3"
    },
    "accelerator": "GPU"
  },
  "cells": [
    {
      "cell_type": "markdown",
      "metadata": {
        "id": "view-in-github",
        "colab_type": "text"
      },
      "source": [
        "<a href=\"https://colab.research.google.com/github/Mahonry/RedesNeuronales/blob/master/Proyecto_Precios_Vehiculos_Usados.ipynb\" target=\"_parent\"><img src=\"https://colab.research.google.com/assets/colab-badge.svg\" alt=\"Open In Colab\"/></a>"
      ]
    },
    {
      "cell_type": "markdown",
      "metadata": {
        "id": "7iFOX_Y3igEV",
        "colab_type": "text"
      },
      "source": [
        "![texto alternativo](https://drive.google.com/uc?id=1_ZoJOp39dxsRTVndJP1_7jdY7oGi8sSu) \n",
        "\n",
        "<h1><center>Redes Neuronales con Keras y Scikit</center></h1>\n",
        "\n",
        "\n",
        "<center><i>Proyecto: Predicción de precios de vehiculos usados</i></center>"
      ]
    },
    {
      "cell_type": "markdown",
      "metadata": {
        "id": "ARGQZBuPwJoD",
        "colab_type": "text"
      },
      "source": [
        "<h1>Contenido</h1>\n",
        "\n",
        "<div class=\"alert alert-block alert-warning\" style=\"margin-top: 20px\">\n",
        "    <ol>\n",
        "        <li><a href=\"#problema\">Contexto Analítico  y exploración de datos</a></li>     \n",
        "        <li><a href=\"#ingenieria\">Ingeniería de datos</a></li>           \n",
        "        <li><a href=\"#arquitectura\">Diseño, Entrenamiento y Evaluación de la RN</a></li>\n",
        "    </ol>\n",
        "</div>\n",
        "<br>\n",
        "<hr>"
      ]
    },
    {
      "cell_type": "markdown",
      "metadata": {
        "id": "_VfqD089-WuQ",
        "colab_type": "text"
      },
      "source": [
        "<h1 id=\"problema\">Contexto analítico y exploración de datos</h1>\n",
        "\n",
        "El mercado de autos usados es reconocido por ser un sector economico muy competido con un centenar de compañias que luchan por hacerse con una porción de la torta. El precio de los autos se devalua año año debido a multiples factores y determinar el precio correcto es clave para las compañias para lograr competir en el mercado. En este caso se requiere implementar una red neural que permita determinar el valor más justo para los vehiculos dependiento de sus atributos.\n",
        "\n",
        "Se cuenta con un dataset (Craiglist_Cars.csv) que serán cargados directamente a Colab.\n"
      ]
    },
    {
      "cell_type": "code",
      "metadata": {
        "id": "MdkkRVpVZbyQ",
        "colab_type": "code",
        "colab": {}
      },
      "source": [
        "#Importamos las librerias necesarias\n",
        "import pandas as pd\n",
        "import numpy as np\n",
        "import io\n",
        "from google.colab import files #Librería necesaria para interactuar con archivos en Colab"
      ],
      "execution_count": 0,
      "outputs": []
    },
    {
      "cell_type": "code",
      "metadata": {
        "id": "lUUfMdJ3rnXz",
        "colab_type": "code",
        "outputId": "bb7100e1-2212-45d6-b6fb-18f863814c33",
        "colab": {
          "base_uri": "https://localhost:8080/",
          "height": 138
        }
      },
      "source": [
        "#uploaded = files.upload()\n",
        "#cars = pd.read_csv(io.StringIO(uploaded['Craiglist_Cars.csv'].decode('utf-8')), sep = ',' )\n",
        "cars = pd.read_csv('Craiglist_Cars.csv', sep = ',' )\n",
        "cars.head(3)"
      ],
      "execution_count": 0,
      "outputs": [
        {
          "output_type": "execute_result",
          "data": {
            "text/html": [
              "<div>\n",
              "<style scoped>\n",
              "    .dataframe tbody tr th:only-of-type {\n",
              "        vertical-align: middle;\n",
              "    }\n",
              "\n",
              "    .dataframe tbody tr th {\n",
              "        vertical-align: top;\n",
              "    }\n",
              "\n",
              "    .dataframe thead th {\n",
              "        text-align: right;\n",
              "    }\n",
              "</style>\n",
              "<table border=\"1\" class=\"dataframe\">\n",
              "  <thead>\n",
              "    <tr style=\"text-align: right;\">\n",
              "      <th></th>\n",
              "      <th>year</th>\n",
              "      <th>manufacturer</th>\n",
              "      <th>condition</th>\n",
              "      <th>cylinders</th>\n",
              "      <th>fuel</th>\n",
              "      <th>title_status</th>\n",
              "      <th>transmission</th>\n",
              "      <th>drive</th>\n",
              "      <th>size</th>\n",
              "      <th>type</th>\n",
              "      <th>paint_color</th>\n",
              "      <th>price</th>\n",
              "    </tr>\n",
              "  </thead>\n",
              "  <tbody>\n",
              "    <tr>\n",
              "      <th>0</th>\n",
              "      <td>2009</td>\n",
              "      <td>chevrolet</td>\n",
              "      <td>good</td>\n",
              "      <td>8 cylinders</td>\n",
              "      <td>gas</td>\n",
              "      <td>clean</td>\n",
              "      <td>automatic</td>\n",
              "      <td>rwd</td>\n",
              "      <td>full-size</td>\n",
              "      <td>SUV</td>\n",
              "      <td>white</td>\n",
              "      <td>9000</td>\n",
              "    </tr>\n",
              "    <tr>\n",
              "      <th>1</th>\n",
              "      <td>2002</td>\n",
              "      <td>gmc</td>\n",
              "      <td>good</td>\n",
              "      <td>8 cylinders</td>\n",
              "      <td>gas</td>\n",
              "      <td>clean</td>\n",
              "      <td>automatic</td>\n",
              "      <td>4wd</td>\n",
              "      <td>NaN</td>\n",
              "      <td>pickup</td>\n",
              "      <td>white</td>\n",
              "      <td>6000</td>\n",
              "    </tr>\n",
              "    <tr>\n",
              "      <th>2</th>\n",
              "      <td>2007</td>\n",
              "      <td>pontiac</td>\n",
              "      <td>excellent</td>\n",
              "      <td>4 cylinders</td>\n",
              "      <td>gas</td>\n",
              "      <td>clean</td>\n",
              "      <td>automatic</td>\n",
              "      <td>fwd</td>\n",
              "      <td>compact</td>\n",
              "      <td>convertible</td>\n",
              "      <td>red</td>\n",
              "      <td>7000</td>\n",
              "    </tr>\n",
              "  </tbody>\n",
              "</table>\n",
              "</div>"
            ],
            "text/plain": [
              "   year manufacturer  condition  ...         type paint_color price\n",
              "0  2009    chevrolet       good  ...          SUV       white  9000\n",
              "1  2002          gmc       good  ...       pickup       white  6000\n",
              "2  2007      pontiac  excellent  ...  convertible         red  7000\n",
              "\n",
              "[3 rows x 12 columns]"
            ]
          },
          "metadata": {
            "tags": []
          },
          "execution_count": 112
        }
      ]
    },
    {
      "cell_type": "markdown",
      "metadata": {
        "id": "cSWTI9p6ZH9O",
        "colab_type": "text"
      },
      "source": [
        "#1. Evalua la cantidad, tipo y completitud de las variables disponibles. \n",
        "\n"
      ]
    },
    {
      "cell_type": "code",
      "metadata": {
        "id": "B6Lu6dsRBOob",
        "colab_type": "code",
        "outputId": "b70c98e6-0cab-4e39-ea7c-d2494ad18d7e",
        "colab": {
          "base_uri": "https://localhost:8080/",
          "height": 259
        }
      },
      "source": [
        "print(cars.shape)\n",
        "100*cars.isnull().sum()/cars.shape[0]"
      ],
      "execution_count": 0,
      "outputs": [
        {
          "output_type": "stream",
          "text": [
            "(434542, 12)\n"
          ],
          "name": "stdout"
        },
        {
          "output_type": "execute_result",
          "data": {
            "text/plain": [
              "year             0.000000\n",
              "manufacturer     3.646138\n",
              "condition       36.860649\n",
              "cylinders       28.306355\n",
              "fuel             0.839505\n",
              "title_status     0.662997\n",
              "transmission     0.989087\n",
              "drive           13.280189\n",
              "size            58.133621\n",
              "type            11.566661\n",
              "paint_color     19.734571\n",
              "price            0.000000\n",
              "dtype: float64"
            ]
          },
          "metadata": {
            "tags": []
          },
          "execution_count": 113
        }
      ]
    },
    {
      "cell_type": "code",
      "metadata": {
        "id": "8cYAAJxXBr2b",
        "colab_type": "code",
        "outputId": "85236be6-d678-4093-a128-c18df2f81b76",
        "colab": {
          "base_uri": "https://localhost:8080/",
          "height": 86
        }
      },
      "source": [
        "types = pd.DataFrame(cars.dtypes)\n",
        "print(\"Tipos de variables\",types.groupby(0).size())"
      ],
      "execution_count": 0,
      "outputs": [
        {
          "output_type": "stream",
          "text": [
            "Tipos de variables 0\n",
            "int64      2\n",
            "object    10\n",
            "dtype: int64\n"
          ],
          "name": "stdout"
        }
      ]
    },
    {
      "cell_type": "code",
      "metadata": {
        "id": "07gsnrCtHL7e",
        "colab_type": "code",
        "outputId": "11194cd6-80b7-4d4c-8abe-11d77dc2a8c8",
        "colab": {
          "base_uri": "https://localhost:8080/",
          "height": 190
        }
      },
      "source": [
        "categoricas = types.index[types[0] == 'O'].values\n",
        "for line in categoricas:\n",
        " print(\"La variable \"+ line +\" contiene:\",str(len(cars[line].unique()))+\" distinct values\")"
      ],
      "execution_count": 0,
      "outputs": [
        {
          "output_type": "stream",
          "text": [
            "La variable manufacturer contiene: 43 distinct values\n",
            "La variable condition contiene: 7 distinct values\n",
            "La variable cylinders contiene: 9 distinct values\n",
            "La variable fuel contiene: 6 distinct values\n",
            "La variable title_status contiene: 7 distinct values\n",
            "La variable transmission contiene: 4 distinct values\n",
            "La variable drive contiene: 4 distinct values\n",
            "La variable size contiene: 5 distinct values\n",
            "La variable type contiene: 14 distinct values\n",
            "La variable paint_color contiene: 13 distinct values\n"
          ],
          "name": "stdout"
        }
      ]
    },
    {
      "cell_type": "code",
      "metadata": {
        "id": "uYilrpGZHgWe",
        "colab_type": "code",
        "outputId": "fc897c71-e8ed-4fb9-cc43-c8fba05d5141",
        "colab": {
          "base_uri": "https://localhost:8080/",
          "height": 1000
        }
      },
      "source": [
        "for i in categoricas:\n",
        "    print(\"Distribución de \",i,\": \\n\", 100*cars[i].value_counts()/cars.shape[0],\"\\n\")"
      ],
      "execution_count": 0,
      "outputs": [
        {
          "output_type": "stream",
          "text": [
            "Distribución de  manufacturer : \n",
            " ford               17.966273\n",
            "chevrolet          14.873591\n",
            "toyota              7.667383\n",
            "nissan              5.094789\n",
            "honda               5.086045\n",
            "jeep                4.915060\n",
            "ram                 4.827381\n",
            "gmc                 4.297628\n",
            "dodge               3.775699\n",
            "bmw                 2.687887\n",
            "hyundai             2.462133\n",
            "subaru              2.127988\n",
            "mercedes-benz       2.062401\n",
            "volkswagen          2.023280\n",
            "chrysler            1.783947\n",
            "kia                 1.712378\n",
            "cadillac            1.504343\n",
            "buick               1.329906\n",
            "lexus               1.304592\n",
            "mazda               1.288023\n",
            "audi                1.187917\n",
            "acura               0.865509\n",
            "infiniti            0.783814\n",
            "pontiac             0.766784\n",
            "lincoln             0.685319\n",
            "volvo               0.590507\n",
            "mitsubishi          0.550004\n",
            "mini                0.441154\n",
            "rover               0.433330\n",
            "mercury             0.412848\n",
            "saturn              0.377639\n",
            "jaguar              0.226906\n",
            "fiat                0.153265\n",
            "harley-davidson     0.036590\n",
            "datsun              0.018640\n",
            "alfa-romeo          0.018640\n",
            "land rover          0.005063\n",
            "aston-martin        0.004142\n",
            "porche              0.003452\n",
            "ferrari             0.001151\n",
            "hennessey           0.000230\n",
            "morgan              0.000230\n",
            "Name: manufacturer, dtype: float64 \n",
            "\n",
            "Distribución de  condition : \n",
            " excellent    30.126432\n",
            "good         23.442843\n",
            "like new      6.345532\n",
            "fair          2.811926\n",
            "new           0.223914\n",
            "salvage       0.188704\n",
            "Name: condition, dtype: float64 \n",
            "\n",
            "Distribución de  cylinders : \n",
            " 6 cylinders     26.003700\n",
            "8 cylinders     22.150908\n",
            "4 cylinders     21.977622\n",
            "5 cylinders      0.662307\n",
            "10 cylinders     0.418602\n",
            "other            0.333685\n",
            "3 cylinders      0.117595\n",
            "12 cylinders     0.029226\n",
            "Name: cylinders, dtype: float64 \n",
            "\n",
            "Distribución de  fuel : \n",
            " gas         87.363247\n",
            "diesel       7.323573\n",
            "other        3.458814\n",
            "hybrid       0.860676\n",
            "electric     0.154185\n",
            "Name: fuel, dtype: float64 \n",
            "\n",
            "Distribución de  title_status : \n",
            " clean         95.473855\n",
            "rebuilt        1.893948\n",
            "salvage        0.992309\n",
            "lien           0.801994\n",
            "missing        0.147282\n",
            "parts only     0.027615\n",
            "Name: title_status, dtype: float64 \n",
            "\n",
            "Distribución de  transmission : \n",
            " automatic    88.616060\n",
            "manual        7.696609\n",
            "other         2.698243\n",
            "Name: transmission, dtype: float64 \n",
            "\n",
            "Distribución de  drive : \n",
            " 4wd    38.471540\n",
            "fwd    30.738801\n",
            "rwd    17.509470\n",
            "Name: drive, dtype: float64 \n",
            "\n",
            "Distribución de  size : \n",
            " full-size      21.924233\n",
            "mid-size       12.277294\n",
            "compact         6.618923\n",
            "sub-compact     1.045929\n",
            "Name: size, dtype: float64 \n",
            "\n",
            "Distribución de  type : \n",
            " sedan          22.850265\n",
            "SUV            22.407961\n",
            "pickup         11.318354\n",
            "truck          10.611632\n",
            "coupe           5.145417\n",
            "hatchback       3.212578\n",
            "other           3.179209\n",
            "wagon           2.757386\n",
            "convertible     2.474790\n",
            "van             2.297822\n",
            "mini-van        1.799136\n",
            "offroad         0.227366\n",
            "bus             0.151424\n",
            "Name: type, dtype: float64 \n",
            "\n",
            "Distribución de  paint_color : \n",
            " white     19.579005\n",
            "black     16.460089\n",
            "silver    11.873421\n",
            "blue       8.432096\n",
            "red        8.342347\n",
            "grey       7.617676\n",
            "green      2.405981\n",
            "custom     2.297822\n",
            "brown      1.835956\n",
            "yellow     0.690842\n",
            "orange     0.515485\n",
            "purple     0.214709\n",
            "Name: paint_color, dtype: float64 \n",
            "\n"
          ],
          "name": "stdout"
        }
      ]
    },
    {
      "cell_type": "markdown",
      "metadata": {
        "id": "B9_dNCTum1Hw",
        "colab_type": "text"
      },
      "source": [
        "<h1 id=\"ingenieria\">Ingeniería de datos</h1>\n",
        "\n",
        "Ahora se debe preparar la información para poder alimentar la red neuronal."
      ]
    },
    {
      "cell_type": "markdown",
      "metadata": {
        "id": "vRCjvmPz63n7",
        "colab_type": "text"
      },
      "source": [
        "# 2. Implementa estrategías para tratar la información nula en las variables cuya tasa de nulos sea máximo el 10%"
      ]
    },
    {
      "cell_type": "code",
      "metadata": {
        "id": "hVNrQiqFO78K",
        "colab_type": "code",
        "outputId": "fab93274-ce2f-4ad0-dcc6-a470af7176fc",
        "colab": {
          "base_uri": "https://localhost:8080/",
          "height": 242
        }
      },
      "source": [
        "#Reemplazamos el tipo de actividad por la moda \n",
        "cars[\"fuel\"] = cars[\"fuel\"].fillna(cars[\"fuel\"].mode()[0])\n",
        "cars[\"title_status\"] = cars[\"title_status\"].fillna(cars[\"title_status\"].mode()[0])\n",
        "cars[\"transmission\"] = cars[\"transmission\"].fillna(cars[\"transmission\"].mode()[0])\n",
        "cars[\"manufacturer\"] = cars[\"manufacturer\"].fillna(cars[\"manufacturer\"].mode()[0])\n",
        "#Verificamos el cambio\n",
        "100*cars.isnull().sum()/cars.shape[0]"
      ],
      "execution_count": 0,
      "outputs": [
        {
          "output_type": "execute_result",
          "data": {
            "text/plain": [
              "year             0.000000\n",
              "manufacturer     0.000000\n",
              "condition       36.860649\n",
              "cylinders       28.306355\n",
              "fuel             0.000000\n",
              "title_status     0.000000\n",
              "transmission     0.000000\n",
              "drive           13.280189\n",
              "size            58.133621\n",
              "type            11.566661\n",
              "paint_color     19.734571\n",
              "price            0.000000\n",
              "dtype: float64"
            ]
          },
          "metadata": {
            "tags": []
          },
          "execution_count": 117
        }
      ]
    },
    {
      "cell_type": "markdown",
      "metadata": {
        "id": "CtshbEQa7aRW",
        "colab_type": "text"
      },
      "source": [
        "Luego del procedimiento anterior se debe proceder a convertir las variables categoricas en variables numericas. Durante el curso implementamos un método de One Hot Encoding disponible en Scikit Learn. En este caso utilizaremos una funcionalidad embedida en Pandas denominada [\"get_dummies\"](https://pandas.pydata.org/pandas-docs/stable/reference/api/pandas.get_dummies.html):"
      ]
    },
    {
      "cell_type": "code",
      "metadata": {
        "id": "ZEtEYD5DS1iI",
        "colab_type": "code",
        "outputId": "5cfe30c3-b45a-4d90-b233-f343c4b3f71c",
        "colab": {
          "base_uri": "https://localhost:8080/",
          "height": 221
        }
      },
      "source": [
        "df= cars.copy()\n",
        "for col in categoricas:\n",
        "    df = pd.concat([df, (pd.get_dummies(df[col])).astype(int)], axis=1)\n",
        "    df.drop(columns=[col],inplace=True)\n",
        "#Al crear las variables dummies se crean varias columnas referentes a categorias\n",
        "# 'other' que no aportan ningún valor al dataset por lo cual las eliminamos\n",
        "df.drop('other', axis=1, inplace=True)\n",
        "print(df.shape)\n",
        "df.head(3)"
      ],
      "execution_count": 0,
      "outputs": [
        {
          "output_type": "stream",
          "text": [
            "(434542, 100)\n"
          ],
          "name": "stdout"
        },
        {
          "output_type": "execute_result",
          "data": {
            "text/html": [
              "<div>\n",
              "<style scoped>\n",
              "    .dataframe tbody tr th:only-of-type {\n",
              "        vertical-align: middle;\n",
              "    }\n",
              "\n",
              "    .dataframe tbody tr th {\n",
              "        vertical-align: top;\n",
              "    }\n",
              "\n",
              "    .dataframe thead th {\n",
              "        text-align: right;\n",
              "    }\n",
              "</style>\n",
              "<table border=\"1\" class=\"dataframe\">\n",
              "  <thead>\n",
              "    <tr style=\"text-align: right;\">\n",
              "      <th></th>\n",
              "      <th>year</th>\n",
              "      <th>price</th>\n",
              "      <th>acura</th>\n",
              "      <th>alfa-romeo</th>\n",
              "      <th>aston-martin</th>\n",
              "      <th>audi</th>\n",
              "      <th>bmw</th>\n",
              "      <th>buick</th>\n",
              "      <th>cadillac</th>\n",
              "      <th>chevrolet</th>\n",
              "      <th>chrysler</th>\n",
              "      <th>datsun</th>\n",
              "      <th>dodge</th>\n",
              "      <th>ferrari</th>\n",
              "      <th>fiat</th>\n",
              "      <th>ford</th>\n",
              "      <th>gmc</th>\n",
              "      <th>harley-davidson</th>\n",
              "      <th>hennessey</th>\n",
              "      <th>honda</th>\n",
              "      <th>hyundai</th>\n",
              "      <th>infiniti</th>\n",
              "      <th>jaguar</th>\n",
              "      <th>jeep</th>\n",
              "      <th>kia</th>\n",
              "      <th>land rover</th>\n",
              "      <th>lexus</th>\n",
              "      <th>lincoln</th>\n",
              "      <th>mazda</th>\n",
              "      <th>mercedes-benz</th>\n",
              "      <th>mercury</th>\n",
              "      <th>mini</th>\n",
              "      <th>mitsubishi</th>\n",
              "      <th>morgan</th>\n",
              "      <th>nissan</th>\n",
              "      <th>pontiac</th>\n",
              "      <th>porche</th>\n",
              "      <th>ram</th>\n",
              "      <th>rover</th>\n",
              "      <th>saturn</th>\n",
              "      <th>...</th>\n",
              "      <th>hybrid</th>\n",
              "      <th>clean</th>\n",
              "      <th>lien</th>\n",
              "      <th>missing</th>\n",
              "      <th>parts only</th>\n",
              "      <th>rebuilt</th>\n",
              "      <th>salvage</th>\n",
              "      <th>automatic</th>\n",
              "      <th>manual</th>\n",
              "      <th>4wd</th>\n",
              "      <th>fwd</th>\n",
              "      <th>rwd</th>\n",
              "      <th>compact</th>\n",
              "      <th>full-size</th>\n",
              "      <th>mid-size</th>\n",
              "      <th>sub-compact</th>\n",
              "      <th>SUV</th>\n",
              "      <th>bus</th>\n",
              "      <th>convertible</th>\n",
              "      <th>coupe</th>\n",
              "      <th>hatchback</th>\n",
              "      <th>mini-van</th>\n",
              "      <th>offroad</th>\n",
              "      <th>pickup</th>\n",
              "      <th>sedan</th>\n",
              "      <th>truck</th>\n",
              "      <th>van</th>\n",
              "      <th>wagon</th>\n",
              "      <th>black</th>\n",
              "      <th>blue</th>\n",
              "      <th>brown</th>\n",
              "      <th>custom</th>\n",
              "      <th>green</th>\n",
              "      <th>grey</th>\n",
              "      <th>orange</th>\n",
              "      <th>purple</th>\n",
              "      <th>red</th>\n",
              "      <th>silver</th>\n",
              "      <th>white</th>\n",
              "      <th>yellow</th>\n",
              "    </tr>\n",
              "  </thead>\n",
              "  <tbody>\n",
              "    <tr>\n",
              "      <th>0</th>\n",
              "      <td>2009</td>\n",
              "      <td>9000</td>\n",
              "      <td>0</td>\n",
              "      <td>0</td>\n",
              "      <td>0</td>\n",
              "      <td>0</td>\n",
              "      <td>0</td>\n",
              "      <td>0</td>\n",
              "      <td>0</td>\n",
              "      <td>1</td>\n",
              "      <td>0</td>\n",
              "      <td>0</td>\n",
              "      <td>0</td>\n",
              "      <td>0</td>\n",
              "      <td>0</td>\n",
              "      <td>0</td>\n",
              "      <td>0</td>\n",
              "      <td>0</td>\n",
              "      <td>0</td>\n",
              "      <td>0</td>\n",
              "      <td>0</td>\n",
              "      <td>0</td>\n",
              "      <td>0</td>\n",
              "      <td>0</td>\n",
              "      <td>0</td>\n",
              "      <td>0</td>\n",
              "      <td>0</td>\n",
              "      <td>0</td>\n",
              "      <td>0</td>\n",
              "      <td>0</td>\n",
              "      <td>0</td>\n",
              "      <td>0</td>\n",
              "      <td>0</td>\n",
              "      <td>0</td>\n",
              "      <td>0</td>\n",
              "      <td>0</td>\n",
              "      <td>0</td>\n",
              "      <td>0</td>\n",
              "      <td>0</td>\n",
              "      <td>0</td>\n",
              "      <td>...</td>\n",
              "      <td>0</td>\n",
              "      <td>1</td>\n",
              "      <td>0</td>\n",
              "      <td>0</td>\n",
              "      <td>0</td>\n",
              "      <td>0</td>\n",
              "      <td>0</td>\n",
              "      <td>1</td>\n",
              "      <td>0</td>\n",
              "      <td>0</td>\n",
              "      <td>0</td>\n",
              "      <td>1</td>\n",
              "      <td>0</td>\n",
              "      <td>1</td>\n",
              "      <td>0</td>\n",
              "      <td>0</td>\n",
              "      <td>1</td>\n",
              "      <td>0</td>\n",
              "      <td>0</td>\n",
              "      <td>0</td>\n",
              "      <td>0</td>\n",
              "      <td>0</td>\n",
              "      <td>0</td>\n",
              "      <td>0</td>\n",
              "      <td>0</td>\n",
              "      <td>0</td>\n",
              "      <td>0</td>\n",
              "      <td>0</td>\n",
              "      <td>0</td>\n",
              "      <td>0</td>\n",
              "      <td>0</td>\n",
              "      <td>0</td>\n",
              "      <td>0</td>\n",
              "      <td>0</td>\n",
              "      <td>0</td>\n",
              "      <td>0</td>\n",
              "      <td>0</td>\n",
              "      <td>0</td>\n",
              "      <td>1</td>\n",
              "      <td>0</td>\n",
              "    </tr>\n",
              "    <tr>\n",
              "      <th>1</th>\n",
              "      <td>2002</td>\n",
              "      <td>6000</td>\n",
              "      <td>0</td>\n",
              "      <td>0</td>\n",
              "      <td>0</td>\n",
              "      <td>0</td>\n",
              "      <td>0</td>\n",
              "      <td>0</td>\n",
              "      <td>0</td>\n",
              "      <td>0</td>\n",
              "      <td>0</td>\n",
              "      <td>0</td>\n",
              "      <td>0</td>\n",
              "      <td>0</td>\n",
              "      <td>0</td>\n",
              "      <td>0</td>\n",
              "      <td>1</td>\n",
              "      <td>0</td>\n",
              "      <td>0</td>\n",
              "      <td>0</td>\n",
              "      <td>0</td>\n",
              "      <td>0</td>\n",
              "      <td>0</td>\n",
              "      <td>0</td>\n",
              "      <td>0</td>\n",
              "      <td>0</td>\n",
              "      <td>0</td>\n",
              "      <td>0</td>\n",
              "      <td>0</td>\n",
              "      <td>0</td>\n",
              "      <td>0</td>\n",
              "      <td>0</td>\n",
              "      <td>0</td>\n",
              "      <td>0</td>\n",
              "      <td>0</td>\n",
              "      <td>0</td>\n",
              "      <td>0</td>\n",
              "      <td>0</td>\n",
              "      <td>0</td>\n",
              "      <td>0</td>\n",
              "      <td>...</td>\n",
              "      <td>0</td>\n",
              "      <td>1</td>\n",
              "      <td>0</td>\n",
              "      <td>0</td>\n",
              "      <td>0</td>\n",
              "      <td>0</td>\n",
              "      <td>0</td>\n",
              "      <td>1</td>\n",
              "      <td>0</td>\n",
              "      <td>1</td>\n",
              "      <td>0</td>\n",
              "      <td>0</td>\n",
              "      <td>0</td>\n",
              "      <td>0</td>\n",
              "      <td>0</td>\n",
              "      <td>0</td>\n",
              "      <td>0</td>\n",
              "      <td>0</td>\n",
              "      <td>0</td>\n",
              "      <td>0</td>\n",
              "      <td>0</td>\n",
              "      <td>0</td>\n",
              "      <td>0</td>\n",
              "      <td>1</td>\n",
              "      <td>0</td>\n",
              "      <td>0</td>\n",
              "      <td>0</td>\n",
              "      <td>0</td>\n",
              "      <td>0</td>\n",
              "      <td>0</td>\n",
              "      <td>0</td>\n",
              "      <td>0</td>\n",
              "      <td>0</td>\n",
              "      <td>0</td>\n",
              "      <td>0</td>\n",
              "      <td>0</td>\n",
              "      <td>0</td>\n",
              "      <td>0</td>\n",
              "      <td>1</td>\n",
              "      <td>0</td>\n",
              "    </tr>\n",
              "    <tr>\n",
              "      <th>2</th>\n",
              "      <td>2007</td>\n",
              "      <td>7000</td>\n",
              "      <td>0</td>\n",
              "      <td>0</td>\n",
              "      <td>0</td>\n",
              "      <td>0</td>\n",
              "      <td>0</td>\n",
              "      <td>0</td>\n",
              "      <td>0</td>\n",
              "      <td>0</td>\n",
              "      <td>0</td>\n",
              "      <td>0</td>\n",
              "      <td>0</td>\n",
              "      <td>0</td>\n",
              "      <td>0</td>\n",
              "      <td>0</td>\n",
              "      <td>0</td>\n",
              "      <td>0</td>\n",
              "      <td>0</td>\n",
              "      <td>0</td>\n",
              "      <td>0</td>\n",
              "      <td>0</td>\n",
              "      <td>0</td>\n",
              "      <td>0</td>\n",
              "      <td>0</td>\n",
              "      <td>0</td>\n",
              "      <td>0</td>\n",
              "      <td>0</td>\n",
              "      <td>0</td>\n",
              "      <td>0</td>\n",
              "      <td>0</td>\n",
              "      <td>0</td>\n",
              "      <td>0</td>\n",
              "      <td>0</td>\n",
              "      <td>0</td>\n",
              "      <td>1</td>\n",
              "      <td>0</td>\n",
              "      <td>0</td>\n",
              "      <td>0</td>\n",
              "      <td>0</td>\n",
              "      <td>...</td>\n",
              "      <td>0</td>\n",
              "      <td>1</td>\n",
              "      <td>0</td>\n",
              "      <td>0</td>\n",
              "      <td>0</td>\n",
              "      <td>0</td>\n",
              "      <td>0</td>\n",
              "      <td>1</td>\n",
              "      <td>0</td>\n",
              "      <td>0</td>\n",
              "      <td>1</td>\n",
              "      <td>0</td>\n",
              "      <td>1</td>\n",
              "      <td>0</td>\n",
              "      <td>0</td>\n",
              "      <td>0</td>\n",
              "      <td>0</td>\n",
              "      <td>0</td>\n",
              "      <td>1</td>\n",
              "      <td>0</td>\n",
              "      <td>0</td>\n",
              "      <td>0</td>\n",
              "      <td>0</td>\n",
              "      <td>0</td>\n",
              "      <td>0</td>\n",
              "      <td>0</td>\n",
              "      <td>0</td>\n",
              "      <td>0</td>\n",
              "      <td>0</td>\n",
              "      <td>0</td>\n",
              "      <td>0</td>\n",
              "      <td>0</td>\n",
              "      <td>0</td>\n",
              "      <td>0</td>\n",
              "      <td>0</td>\n",
              "      <td>0</td>\n",
              "      <td>1</td>\n",
              "      <td>0</td>\n",
              "      <td>0</td>\n",
              "      <td>0</td>\n",
              "    </tr>\n",
              "  </tbody>\n",
              "</table>\n",
              "<p>3 rows × 100 columns</p>\n",
              "</div>"
            ],
            "text/plain": [
              "   year  price  acura  alfa-romeo  ...  red  silver  white  yellow\n",
              "0  2009   9000      0           0  ...    0       0      1       0\n",
              "1  2002   6000      0           0  ...    0       0      1       0\n",
              "2  2007   7000      0           0  ...    1       0      0       0\n",
              "\n",
              "[3 rows x 100 columns]"
            ]
          },
          "metadata": {
            "tags": []
          },
          "execution_count": 118
        }
      ]
    },
    {
      "cell_type": "code",
      "metadata": {
        "id": "5Iesa56hVz8s",
        "colab_type": "code",
        "outputId": "14c63168-ea3e-431b-da6a-dd77da704edd",
        "colab": {
          "base_uri": "https://localhost:8080/",
          "height": 69
        }
      },
      "source": [
        "types = pd.DataFrame(df.dtypes)\n",
        "print(\"Tipos de variables\",types.groupby(0).size())"
      ],
      "execution_count": 0,
      "outputs": [
        {
          "output_type": "stream",
          "text": [
            "Tipos de variables 0\n",
            "int64    100\n",
            "dtype: int64\n"
          ],
          "name": "stdout"
        }
      ]
    },
    {
      "cell_type": "code",
      "metadata": {
        "id": "d-Isxxj2wzPX",
        "colab_type": "code",
        "outputId": "0513b653-a8bc-4ccc-fad9-042eb27a6952",
        "colab": {
          "base_uri": "https://localhost:8080/",
          "height": 204
        }
      },
      "source": [
        "numeric_columns = list(set(types.index[types[0] ==\"int64\"].values) - set([\"price\"]))\n",
        "variables_consolidadas = df[numeric_columns]\n",
        "objetivo = df[\"price\"] #Variable objetivo de nuestra regresion.\n",
        "\n",
        "variables_consolidadas.head(3)"
      ],
      "execution_count": 0,
      "outputs": [
        {
          "output_type": "execute_result",
          "data": {
            "text/html": [
              "<div>\n",
              "<style scoped>\n",
              "    .dataframe tbody tr th:only-of-type {\n",
              "        vertical-align: middle;\n",
              "    }\n",
              "\n",
              "    .dataframe tbody tr th {\n",
              "        vertical-align: top;\n",
              "    }\n",
              "\n",
              "    .dataframe thead th {\n",
              "        text-align: right;\n",
              "    }\n",
              "</style>\n",
              "<table border=\"1\" class=\"dataframe\">\n",
              "  <thead>\n",
              "    <tr style=\"text-align: right;\">\n",
              "      <th></th>\n",
              "      <th>buick</th>\n",
              "      <th>5 cylinders</th>\n",
              "      <th>chrysler</th>\n",
              "      <th>audi</th>\n",
              "      <th>volvo</th>\n",
              "      <th>year</th>\n",
              "      <th>automatic</th>\n",
              "      <th>honda</th>\n",
              "      <th>subaru</th>\n",
              "      <th>gmc</th>\n",
              "      <th>like new</th>\n",
              "      <th>cadillac</th>\n",
              "      <th>datsun</th>\n",
              "      <th>12 cylinders</th>\n",
              "      <th>mid-size</th>\n",
              "      <th>hennessey</th>\n",
              "      <th>excellent</th>\n",
              "      <th>sedan</th>\n",
              "      <th>lexus</th>\n",
              "      <th>rwd</th>\n",
              "      <th>mini</th>\n",
              "      <th>toyota</th>\n",
              "      <th>pontiac</th>\n",
              "      <th>yellow</th>\n",
              "      <th>infiniti</th>\n",
              "      <th>diesel</th>\n",
              "      <th>good</th>\n",
              "      <th>saturn</th>\n",
              "      <th>dodge</th>\n",
              "      <th>purple</th>\n",
              "      <th>fiat</th>\n",
              "      <th>blue</th>\n",
              "      <th>mini-van</th>\n",
              "      <th>bus</th>\n",
              "      <th>custom</th>\n",
              "      <th>sub-compact</th>\n",
              "      <th>truck</th>\n",
              "      <th>convertible</th>\n",
              "      <th>compact</th>\n",
              "      <th>fwd</th>\n",
              "      <th>...</th>\n",
              "      <th>SUV</th>\n",
              "      <th>orange</th>\n",
              "      <th>kia</th>\n",
              "      <th>jeep</th>\n",
              "      <th>alfa-romeo</th>\n",
              "      <th>mercedes-benz</th>\n",
              "      <th>ram</th>\n",
              "      <th>land rover</th>\n",
              "      <th>clean</th>\n",
              "      <th>grey</th>\n",
              "      <th>gas</th>\n",
              "      <th>hyundai</th>\n",
              "      <th>full-size</th>\n",
              "      <th>van</th>\n",
              "      <th>10 cylinders</th>\n",
              "      <th>volkswagen</th>\n",
              "      <th>4wd</th>\n",
              "      <th>chevrolet</th>\n",
              "      <th>black</th>\n",
              "      <th>wagon</th>\n",
              "      <th>jaguar</th>\n",
              "      <th>morgan</th>\n",
              "      <th>white</th>\n",
              "      <th>pickup</th>\n",
              "      <th>green</th>\n",
              "      <th>manual</th>\n",
              "      <th>red</th>\n",
              "      <th>new</th>\n",
              "      <th>parts only</th>\n",
              "      <th>4 cylinders</th>\n",
              "      <th>silver</th>\n",
              "      <th>acura</th>\n",
              "      <th>hybrid</th>\n",
              "      <th>8 cylinders</th>\n",
              "      <th>mitsubishi</th>\n",
              "      <th>hatchback</th>\n",
              "      <th>coupe</th>\n",
              "      <th>missing</th>\n",
              "      <th>mercury</th>\n",
              "      <th>rebuilt</th>\n",
              "    </tr>\n",
              "  </thead>\n",
              "  <tbody>\n",
              "    <tr>\n",
              "      <th>0</th>\n",
              "      <td>0</td>\n",
              "      <td>0</td>\n",
              "      <td>0</td>\n",
              "      <td>0</td>\n",
              "      <td>0</td>\n",
              "      <td>2009</td>\n",
              "      <td>1</td>\n",
              "      <td>0</td>\n",
              "      <td>0</td>\n",
              "      <td>0</td>\n",
              "      <td>0</td>\n",
              "      <td>0</td>\n",
              "      <td>0</td>\n",
              "      <td>0</td>\n",
              "      <td>0</td>\n",
              "      <td>0</td>\n",
              "      <td>0</td>\n",
              "      <td>0</td>\n",
              "      <td>0</td>\n",
              "      <td>1</td>\n",
              "      <td>0</td>\n",
              "      <td>0</td>\n",
              "      <td>0</td>\n",
              "      <td>0</td>\n",
              "      <td>0</td>\n",
              "      <td>0</td>\n",
              "      <td>1</td>\n",
              "      <td>0</td>\n",
              "      <td>0</td>\n",
              "      <td>0</td>\n",
              "      <td>0</td>\n",
              "      <td>0</td>\n",
              "      <td>0</td>\n",
              "      <td>0</td>\n",
              "      <td>0</td>\n",
              "      <td>0</td>\n",
              "      <td>0</td>\n",
              "      <td>0</td>\n",
              "      <td>0</td>\n",
              "      <td>0</td>\n",
              "      <td>...</td>\n",
              "      <td>1</td>\n",
              "      <td>0</td>\n",
              "      <td>0</td>\n",
              "      <td>0</td>\n",
              "      <td>0</td>\n",
              "      <td>0</td>\n",
              "      <td>0</td>\n",
              "      <td>0</td>\n",
              "      <td>1</td>\n",
              "      <td>0</td>\n",
              "      <td>1</td>\n",
              "      <td>0</td>\n",
              "      <td>1</td>\n",
              "      <td>0</td>\n",
              "      <td>0</td>\n",
              "      <td>0</td>\n",
              "      <td>0</td>\n",
              "      <td>1</td>\n",
              "      <td>0</td>\n",
              "      <td>0</td>\n",
              "      <td>0</td>\n",
              "      <td>0</td>\n",
              "      <td>1</td>\n",
              "      <td>0</td>\n",
              "      <td>0</td>\n",
              "      <td>0</td>\n",
              "      <td>0</td>\n",
              "      <td>0</td>\n",
              "      <td>0</td>\n",
              "      <td>0</td>\n",
              "      <td>0</td>\n",
              "      <td>0</td>\n",
              "      <td>0</td>\n",
              "      <td>1</td>\n",
              "      <td>0</td>\n",
              "      <td>0</td>\n",
              "      <td>0</td>\n",
              "      <td>0</td>\n",
              "      <td>0</td>\n",
              "      <td>0</td>\n",
              "    </tr>\n",
              "    <tr>\n",
              "      <th>1</th>\n",
              "      <td>0</td>\n",
              "      <td>0</td>\n",
              "      <td>0</td>\n",
              "      <td>0</td>\n",
              "      <td>0</td>\n",
              "      <td>2002</td>\n",
              "      <td>1</td>\n",
              "      <td>0</td>\n",
              "      <td>0</td>\n",
              "      <td>1</td>\n",
              "      <td>0</td>\n",
              "      <td>0</td>\n",
              "      <td>0</td>\n",
              "      <td>0</td>\n",
              "      <td>0</td>\n",
              "      <td>0</td>\n",
              "      <td>0</td>\n",
              "      <td>0</td>\n",
              "      <td>0</td>\n",
              "      <td>0</td>\n",
              "      <td>0</td>\n",
              "      <td>0</td>\n",
              "      <td>0</td>\n",
              "      <td>0</td>\n",
              "      <td>0</td>\n",
              "      <td>0</td>\n",
              "      <td>1</td>\n",
              "      <td>0</td>\n",
              "      <td>0</td>\n",
              "      <td>0</td>\n",
              "      <td>0</td>\n",
              "      <td>0</td>\n",
              "      <td>0</td>\n",
              "      <td>0</td>\n",
              "      <td>0</td>\n",
              "      <td>0</td>\n",
              "      <td>0</td>\n",
              "      <td>0</td>\n",
              "      <td>0</td>\n",
              "      <td>0</td>\n",
              "      <td>...</td>\n",
              "      <td>0</td>\n",
              "      <td>0</td>\n",
              "      <td>0</td>\n",
              "      <td>0</td>\n",
              "      <td>0</td>\n",
              "      <td>0</td>\n",
              "      <td>0</td>\n",
              "      <td>0</td>\n",
              "      <td>1</td>\n",
              "      <td>0</td>\n",
              "      <td>1</td>\n",
              "      <td>0</td>\n",
              "      <td>0</td>\n",
              "      <td>0</td>\n",
              "      <td>0</td>\n",
              "      <td>0</td>\n",
              "      <td>1</td>\n",
              "      <td>0</td>\n",
              "      <td>0</td>\n",
              "      <td>0</td>\n",
              "      <td>0</td>\n",
              "      <td>0</td>\n",
              "      <td>1</td>\n",
              "      <td>1</td>\n",
              "      <td>0</td>\n",
              "      <td>0</td>\n",
              "      <td>0</td>\n",
              "      <td>0</td>\n",
              "      <td>0</td>\n",
              "      <td>0</td>\n",
              "      <td>0</td>\n",
              "      <td>0</td>\n",
              "      <td>0</td>\n",
              "      <td>1</td>\n",
              "      <td>0</td>\n",
              "      <td>0</td>\n",
              "      <td>0</td>\n",
              "      <td>0</td>\n",
              "      <td>0</td>\n",
              "      <td>0</td>\n",
              "    </tr>\n",
              "    <tr>\n",
              "      <th>2</th>\n",
              "      <td>0</td>\n",
              "      <td>0</td>\n",
              "      <td>0</td>\n",
              "      <td>0</td>\n",
              "      <td>0</td>\n",
              "      <td>2007</td>\n",
              "      <td>1</td>\n",
              "      <td>0</td>\n",
              "      <td>0</td>\n",
              "      <td>0</td>\n",
              "      <td>0</td>\n",
              "      <td>0</td>\n",
              "      <td>0</td>\n",
              "      <td>0</td>\n",
              "      <td>0</td>\n",
              "      <td>0</td>\n",
              "      <td>1</td>\n",
              "      <td>0</td>\n",
              "      <td>0</td>\n",
              "      <td>0</td>\n",
              "      <td>0</td>\n",
              "      <td>0</td>\n",
              "      <td>1</td>\n",
              "      <td>0</td>\n",
              "      <td>0</td>\n",
              "      <td>0</td>\n",
              "      <td>0</td>\n",
              "      <td>0</td>\n",
              "      <td>0</td>\n",
              "      <td>0</td>\n",
              "      <td>0</td>\n",
              "      <td>0</td>\n",
              "      <td>0</td>\n",
              "      <td>0</td>\n",
              "      <td>0</td>\n",
              "      <td>0</td>\n",
              "      <td>0</td>\n",
              "      <td>1</td>\n",
              "      <td>1</td>\n",
              "      <td>1</td>\n",
              "      <td>...</td>\n",
              "      <td>0</td>\n",
              "      <td>0</td>\n",
              "      <td>0</td>\n",
              "      <td>0</td>\n",
              "      <td>0</td>\n",
              "      <td>0</td>\n",
              "      <td>0</td>\n",
              "      <td>0</td>\n",
              "      <td>1</td>\n",
              "      <td>0</td>\n",
              "      <td>1</td>\n",
              "      <td>0</td>\n",
              "      <td>0</td>\n",
              "      <td>0</td>\n",
              "      <td>0</td>\n",
              "      <td>0</td>\n",
              "      <td>0</td>\n",
              "      <td>0</td>\n",
              "      <td>0</td>\n",
              "      <td>0</td>\n",
              "      <td>0</td>\n",
              "      <td>0</td>\n",
              "      <td>0</td>\n",
              "      <td>0</td>\n",
              "      <td>0</td>\n",
              "      <td>0</td>\n",
              "      <td>1</td>\n",
              "      <td>0</td>\n",
              "      <td>0</td>\n",
              "      <td>1</td>\n",
              "      <td>0</td>\n",
              "      <td>0</td>\n",
              "      <td>0</td>\n",
              "      <td>0</td>\n",
              "      <td>0</td>\n",
              "      <td>0</td>\n",
              "      <td>0</td>\n",
              "      <td>0</td>\n",
              "      <td>0</td>\n",
              "      <td>0</td>\n",
              "    </tr>\n",
              "  </tbody>\n",
              "</table>\n",
              "<p>3 rows × 99 columns</p>\n",
              "</div>"
            ],
            "text/plain": [
              "   buick  5 cylinders  chrysler  audi  ...  coupe  missing  mercury  rebuilt\n",
              "0      0            0         0     0  ...      0        0        0        0\n",
              "1      0            0         0     0  ...      0        0        0        0\n",
              "2      0            0         0     0  ...      0        0        0        0\n",
              "\n",
              "[3 rows x 99 columns]"
            ]
          },
          "metadata": {
            "tags": []
          },
          "execution_count": 120
        }
      ]
    },
    {
      "cell_type": "markdown",
      "metadata": {
        "id": "mOP0z86EKrly",
        "colab_type": "text"
      },
      "source": [
        "# 3. Separa el set de datos consolidados en 3 sets (entrenamiento, prueba y validación) de acuerdo con las recomendaciones vistas en el curso."
      ]
    },
    {
      "cell_type": "code",
      "metadata": {
        "id": "Jug8ZISZQQ0X",
        "colab_type": "code",
        "outputId": "991aaae9-3855-42f8-9922-6943d3d4c008",
        "colab": {
          "base_uri": "https://localhost:8080/",
          "height": 121
        }
      },
      "source": [
        "from sklearn.model_selection import train_test_split\n",
        "#Entrenamiento y prueba con relación 80:20\n",
        "x_train, x_test, y_train, y_test = train_test_split(variables_consolidadas,objetivo, test_size=0.2,random_state=2020)\n",
        "#Entrenamiento y validación con relación 90:10\n",
        "x_train, x_val, y_train, y_val = train_test_split(x_train,y_train, test_size=0.1, random_state=2020)\n",
        "\n",
        "y_train=y_train.values.reshape(-1,1)\n",
        "y_test=y_test.values.reshape(-1,1)\n",
        "y_val=y_val.values.reshape(-1,1)\n",
        "\n",
        "print(\"Shape of x_train:\",x_train.shape)\n",
        "print(\"Shape of x_test:\",x_test.shape)\n",
        "print(\"Shape of x_val:\",x_val.shape)\n",
        "print(\"Shape of y_train:\",y_train.shape)\n",
        "print(\"Shape of y_test:\",y_test.shape)\n",
        "print(\"Shape of y_val:\",y_val.shape)"
      ],
      "execution_count": 0,
      "outputs": [
        {
          "output_type": "stream",
          "text": [
            "Shape of x_train: (312869, 99)\n",
            "Shape of x_test: (86909, 99)\n",
            "Shape of x_val: (34764, 99)\n",
            "Shape of y_train: (312869, 1)\n",
            "Shape of y_test: (86909, 1)\n",
            "Shape of y_val: (34764, 1)\n"
          ],
          "name": "stdout"
        }
      ]
    },
    {
      "cell_type": "markdown",
      "metadata": {
        "id": "APBt-AAfNBQj",
        "colab_type": "text"
      },
      "source": [
        "<h1 id=\"arquitectura\">Diseño, Entrenamiento y Evaluación de la RN</h1>\n",
        "\n",
        "Una vez consolidado los sets de información de entrenamiento, validacion y pruebas ya podemos iniciar a modelar nuestra red neuronal con las siguientes consideraciones:\n",
        "* Realiza la prueba con un par de arquitecturas iniciales.\n",
        "* Evalua el desempeño de la red.\n",
        "* Si el desempeño es bajo vuelve a la información y prueba estrategias de estandarización de la información."
      ]
    },
    {
      "cell_type": "markdown",
      "metadata": {
        "id": "528iJ6fQ86ds",
        "colab_type": "text"
      },
      "source": [
        "# 4. Implementa una red neuronal cuyas pérdidas (MSE) con el set de prueba sea menor a 0.40."
      ]
    },
    {
      "cell_type": "code",
      "metadata": {
        "id": "Y6TWVkxGmcIB",
        "colab_type": "code",
        "colab": {}
      },
      "source": [
        "from sklearn.preprocessing import StandardScaler\n",
        "scaler = StandardScaler()\n",
        "scaler.fit(x_train)\n",
        "x_train_scaled = scaler.transform(x_train)\n",
        "x_val_scaled = scaler.transform(x_val)\n",
        "x_test_scaled = scaler.transform(x_test)\n",
        "\n",
        "scaler1 = StandardScaler()\n",
        "scaler1.fit(y_train)\n",
        "y_train_scaled = scaler1.transform(y_train)\n",
        "y_val_scaled = scaler1.transform(y_val)\n",
        "y_test_scaled = scaler1.transform(y_test)"
      ],
      "execution_count": 0,
      "outputs": []
    },
    {
      "cell_type": "code",
      "metadata": {
        "id": "5WORHuhPQmKX",
        "colab_type": "code",
        "outputId": "366e473d-9a8c-412b-e42c-12c1c05639cb",
        "colab": {
          "base_uri": "https://localhost:8080/",
          "height": 345
        }
      },
      "source": [
        "from keras.models import Sequential\n",
        "from keras.layers import Dense, Dropout\n",
        "from keras.utils import plot_model\n",
        "\n",
        "model = Sequential()\n",
        "model.add(Dense(256,input_dim = x_train.shape[1],activation=\"relu\"))\n",
        "model.add(Dense(128,activation=\"relu\"))\n",
        "model.add(Dense(128,activation=\"relu\"))\n",
        "model.add(Dropout(0.2))\n",
        "model.add(Dense(1,activation = \"linear\")) \n",
        "model.compile(optimizer = \"adam\",loss=\"mse\",metrics=[\"mean_absolute_error\"])\n",
        "\n",
        "print(model.summary())"
      ],
      "execution_count": 0,
      "outputs": [
        {
          "output_type": "stream",
          "text": [
            "Model: \"sequential_6\"\n",
            "_________________________________________________________________\n",
            "Layer (type)                 Output Shape              Param #   \n",
            "=================================================================\n",
            "dense_21 (Dense)             (None, 256)               25600     \n",
            "_________________________________________________________________\n",
            "dense_22 (Dense)             (None, 128)               32896     \n",
            "_________________________________________________________________\n",
            "dense_23 (Dense)             (None, 128)               16512     \n",
            "_________________________________________________________________\n",
            "dropout_6 (Dropout)          (None, 128)               0         \n",
            "_________________________________________________________________\n",
            "dense_24 (Dense)             (None, 1)                 129       \n",
            "=================================================================\n",
            "Total params: 75,137\n",
            "Trainable params: 75,137\n",
            "Non-trainable params: 0\n",
            "_________________________________________________________________\n",
            "None\n"
          ],
          "name": "stdout"
        }
      ]
    },
    {
      "cell_type": "code",
      "metadata": {
        "id": "H-y9uDZh_gxS",
        "colab_type": "code",
        "outputId": "c3dc8fe4-e59c-4241-93ea-784a24d5c406",
        "colab": {
          "base_uri": "https://localhost:8080/",
          "height": 1000
        }
      },
      "source": [
        "model.fit(x_train_scaled,y_train_scaled, validation_data = (x_val_scaled,y_val_scaled),epochs=50, batch_size=1024)"
      ],
      "execution_count": 0,
      "outputs": [
        {
          "output_type": "stream",
          "text": [
            "Train on 312869 samples, validate on 34764 samples\n",
            "Epoch 1/50\n",
            "312869/312869 [==============================] - 2s 6us/step - loss: 0.5490 - mean_absolute_error: 0.5139 - val_loss: 0.4867 - val_mean_absolute_error: 0.4523\n",
            "Epoch 2/50\n",
            "312869/312869 [==============================] - 1s 5us/step - loss: 0.4664 - mean_absolute_error: 0.4546 - val_loss: 0.4584 - val_mean_absolute_error: 0.4431\n",
            "Epoch 3/50\n",
            "312869/312869 [==============================] - 1s 5us/step - loss: 0.4531 - mean_absolute_error: 0.4445 - val_loss: 0.4329 - val_mean_absolute_error: 0.4301\n",
            "Epoch 4/50\n",
            "312869/312869 [==============================] - 1s 5us/step - loss: 0.4335 - mean_absolute_error: 0.4362 - val_loss: 0.4332 - val_mean_absolute_error: 0.4384\n",
            "Epoch 5/50\n",
            "312869/312869 [==============================] - 1s 5us/step - loss: 0.4431 - mean_absolute_error: 0.4317 - val_loss: 0.4521 - val_mean_absolute_error: 0.4249\n",
            "Epoch 6/50\n",
            "312869/312869 [==============================] - 1s 5us/step - loss: 0.4235 - mean_absolute_error: 0.4271 - val_loss: 0.4191 - val_mean_absolute_error: 0.4246\n",
            "Epoch 7/50\n",
            "312869/312869 [==============================] - 1s 5us/step - loss: 0.4114 - mean_absolute_error: 0.4227 - val_loss: 0.4172 - val_mean_absolute_error: 0.4258\n",
            "Epoch 8/50\n",
            "312869/312869 [==============================] - 1s 5us/step - loss: 0.4025 - mean_absolute_error: 0.4184 - val_loss: 0.4091 - val_mean_absolute_error: 0.4159\n",
            "Epoch 9/50\n",
            "312869/312869 [==============================] - 1s 5us/step - loss: 0.3969 - mean_absolute_error: 0.4155 - val_loss: 0.4080 - val_mean_absolute_error: 0.4135\n",
            "Epoch 10/50\n",
            "312869/312869 [==============================] - 1s 5us/step - loss: 0.3926 - mean_absolute_error: 0.4125 - val_loss: 0.4034 - val_mean_absolute_error: 0.4161\n",
            "Epoch 11/50\n",
            "312869/312869 [==============================] - 1s 5us/step - loss: 0.3888 - mean_absolute_error: 0.4096 - val_loss: 0.3995 - val_mean_absolute_error: 0.4117\n",
            "Epoch 12/50\n",
            "312869/312869 [==============================] - 2s 5us/step - loss: 0.3825 - mean_absolute_error: 0.4063 - val_loss: 0.4469 - val_mean_absolute_error: 0.4119\n",
            "Epoch 13/50\n",
            "312869/312869 [==============================] - 1s 5us/step - loss: 0.3835 - mean_absolute_error: 0.4047 - val_loss: 0.3959 - val_mean_absolute_error: 0.4115\n",
            "Epoch 14/50\n",
            "312869/312869 [==============================] - 1s 5us/step - loss: 0.3738 - mean_absolute_error: 0.4021 - val_loss: 0.3943 - val_mean_absolute_error: 0.4076\n",
            "Epoch 15/50\n",
            "312869/312869 [==============================] - 1s 5us/step - loss: 0.3683 - mean_absolute_error: 0.3992 - val_loss: 0.3957 - val_mean_absolute_error: 0.4047\n",
            "Epoch 16/50\n",
            "312869/312869 [==============================] - 1s 5us/step - loss: 0.3644 - mean_absolute_error: 0.3969 - val_loss: 0.3924 - val_mean_absolute_error: 0.4093\n",
            "Epoch 17/50\n",
            "312869/312869 [==============================] - 1s 5us/step - loss: 0.3613 - mean_absolute_error: 0.3952 - val_loss: 0.3909 - val_mean_absolute_error: 0.4031\n",
            "Epoch 18/50\n",
            "312869/312869 [==============================] - 1s 5us/step - loss: 0.3586 - mean_absolute_error: 0.3938 - val_loss: 0.3904 - val_mean_absolute_error: 0.4022\n",
            "Epoch 19/50\n",
            "312869/312869 [==============================] - 1s 5us/step - loss: 0.3556 - mean_absolute_error: 0.3920 - val_loss: 0.3858 - val_mean_absolute_error: 0.4019\n",
            "Epoch 20/50\n",
            "312869/312869 [==============================] - 1s 5us/step - loss: 0.3522 - mean_absolute_error: 0.3902 - val_loss: 0.3889 - val_mean_absolute_error: 0.4072\n",
            "Epoch 21/50\n",
            "312869/312869 [==============================] - 1s 5us/step - loss: 0.3503 - mean_absolute_error: 0.3888 - val_loss: 0.3826 - val_mean_absolute_error: 0.4018\n",
            "Epoch 22/50\n",
            "312869/312869 [==============================] - 2s 5us/step - loss: 0.3478 - mean_absolute_error: 0.3871 - val_loss: 0.3834 - val_mean_absolute_error: 0.4017\n",
            "Epoch 23/50\n",
            "312869/312869 [==============================] - 1s 5us/step - loss: 0.3447 - mean_absolute_error: 0.3855 - val_loss: 0.3848 - val_mean_absolute_error: 0.3983\n",
            "Epoch 24/50\n",
            "312869/312869 [==============================] - 1s 5us/step - loss: 0.3425 - mean_absolute_error: 0.3846 - val_loss: 0.3848 - val_mean_absolute_error: 0.4027\n",
            "Epoch 25/50\n",
            "312869/312869 [==============================] - 1s 5us/step - loss: 0.3406 - mean_absolute_error: 0.3836 - val_loss: 0.3834 - val_mean_absolute_error: 0.3964\n",
            "Epoch 26/50\n",
            "312869/312869 [==============================] - 1s 5us/step - loss: 0.3383 - mean_absolute_error: 0.3819 - val_loss: 0.3812 - val_mean_absolute_error: 0.4003\n",
            "Epoch 27/50\n",
            "312869/312869 [==============================] - 1s 5us/step - loss: 0.3364 - mean_absolute_error: 0.3810 - val_loss: 0.3787 - val_mean_absolute_error: 0.3984\n",
            "Epoch 28/50\n",
            "312869/312869 [==============================] - 1s 5us/step - loss: 0.3372 - mean_absolute_error: 0.3800 - val_loss: 0.3818 - val_mean_absolute_error: 0.3980\n",
            "Epoch 29/50\n",
            "312869/312869 [==============================] - 1s 5us/step - loss: 0.3321 - mean_absolute_error: 0.3789 - val_loss: 0.3823 - val_mean_absolute_error: 0.3980\n",
            "Epoch 30/50\n",
            "312869/312869 [==============================] - 2s 5us/step - loss: 0.3308 - mean_absolute_error: 0.3781 - val_loss: 0.3853 - val_mean_absolute_error: 0.4036\n",
            "Epoch 31/50\n",
            "312869/312869 [==============================] - 2s 5us/step - loss: 0.3310 - mean_absolute_error: 0.3779 - val_loss: 0.3831 - val_mean_absolute_error: 0.3979\n",
            "Epoch 32/50\n",
            "312869/312869 [==============================] - 2s 5us/step - loss: 0.3268 - mean_absolute_error: 0.3754 - val_loss: 0.3778 - val_mean_absolute_error: 0.3952\n",
            "Epoch 33/50\n",
            "312869/312869 [==============================] - 2s 5us/step - loss: 0.3251 - mean_absolute_error: 0.3746 - val_loss: 0.3796 - val_mean_absolute_error: 0.3993\n",
            "Epoch 34/50\n",
            "312869/312869 [==============================] - 2s 5us/step - loss: 0.3239 - mean_absolute_error: 0.3739 - val_loss: 0.3862 - val_mean_absolute_error: 0.3951\n",
            "Epoch 35/50\n",
            "312869/312869 [==============================] - 2s 5us/step - loss: 0.3247 - mean_absolute_error: 0.3744 - val_loss: 0.3811 - val_mean_absolute_error: 0.4027\n",
            "Epoch 36/50\n",
            "312869/312869 [==============================] - 2s 5us/step - loss: 0.3212 - mean_absolute_error: 0.3724 - val_loss: 0.3801 - val_mean_absolute_error: 0.3981\n",
            "Epoch 37/50\n",
            "312869/312869 [==============================] - 1s 5us/step - loss: 0.3192 - mean_absolute_error: 0.3710 - val_loss: 0.3758 - val_mean_absolute_error: 0.3927\n",
            "Epoch 38/50\n",
            "312869/312869 [==============================] - 1s 5us/step - loss: 0.3176 - mean_absolute_error: 0.3702 - val_loss: 0.3779 - val_mean_absolute_error: 0.3936\n",
            "Epoch 39/50\n",
            "312869/312869 [==============================] - 2s 5us/step - loss: 0.3156 - mean_absolute_error: 0.3689 - val_loss: 0.3762 - val_mean_absolute_error: 0.3929\n",
            "Epoch 40/50\n",
            "312869/312869 [==============================] - 1s 5us/step - loss: 0.3161 - mean_absolute_error: 0.3691 - val_loss: 0.3749 - val_mean_absolute_error: 0.3920\n",
            "Epoch 41/50\n",
            "312869/312869 [==============================] - 1s 5us/step - loss: 0.3148 - mean_absolute_error: 0.3680 - val_loss: 0.3738 - val_mean_absolute_error: 0.3944\n",
            "Epoch 42/50\n",
            "312869/312869 [==============================] - 1s 5us/step - loss: 0.3133 - mean_absolute_error: 0.3676 - val_loss: 0.3771 - val_mean_absolute_error: 0.3937\n",
            "Epoch 43/50\n",
            "312869/312869 [==============================] - 1s 5us/step - loss: 0.3122 - mean_absolute_error: 0.3670 - val_loss: 0.3744 - val_mean_absolute_error: 0.3928\n",
            "Epoch 44/50\n",
            "312869/312869 [==============================] - 1s 5us/step - loss: 0.3112 - mean_absolute_error: 0.3657 - val_loss: 0.3760 - val_mean_absolute_error: 0.3949\n",
            "Epoch 45/50\n",
            "312869/312869 [==============================] - 1s 5us/step - loss: 0.3100 - mean_absolute_error: 0.3656 - val_loss: 0.3727 - val_mean_absolute_error: 0.3901\n",
            "Epoch 46/50\n",
            "312869/312869 [==============================] - 1s 5us/step - loss: 0.3143 - mean_absolute_error: 0.3649 - val_loss: 0.3748 - val_mean_absolute_error: 0.3928\n",
            "Epoch 47/50\n",
            "312869/312869 [==============================] - 1s 5us/step - loss: 0.3094 - mean_absolute_error: 0.3649 - val_loss: 0.3736 - val_mean_absolute_error: 0.3931\n",
            "Epoch 48/50\n",
            "312869/312869 [==============================] - 1s 5us/step - loss: 0.3106 - mean_absolute_error: 0.3645 - val_loss: 0.3731 - val_mean_absolute_error: 0.3923\n",
            "Epoch 49/50\n",
            "312869/312869 [==============================] - 1s 5us/step - loss: 0.3095 - mean_absolute_error: 0.3642 - val_loss: 0.3729 - val_mean_absolute_error: 0.3911\n",
            "Epoch 50/50\n",
            "312869/312869 [==============================] - 1s 5us/step - loss: 0.3075 - mean_absolute_error: 0.3633 - val_loss: 0.3732 - val_mean_absolute_error: 0.3900\n"
          ],
          "name": "stdout"
        },
        {
          "output_type": "execute_result",
          "data": {
            "text/plain": [
              "<keras.callbacks.History at 0x7f23ea404f28>"
            ]
          },
          "metadata": {
            "tags": []
          },
          "execution_count": 124
        }
      ]
    },
    {
      "cell_type": "markdown",
      "metadata": {
        "id": "ubDSL59pCcBg",
        "colab_type": "text"
      },
      "source": [
        "Ahora realiza la evaluación del modelo con el set de entrenamiento."
      ]
    },
    {
      "cell_type": "code",
      "metadata": {
        "id": "B6C_XX0dRHxR",
        "colab_type": "code",
        "outputId": "5d05d19a-d579-4a6c-873f-61cf75a5a031",
        "colab": {
          "base_uri": "https://localhost:8080/",
          "height": 69
        }
      },
      "source": [
        "result = model.evaluate(x_test_scaled,y_test_scaled)\n",
        "for i in range(len(model.metrics_names)):\n",
        " print(\"Metric \",model.metrics_names[i],\":\",\n",
        "str(round(result[i],2)))"
      ],
      "execution_count": 0,
      "outputs": [
        {
          "output_type": "stream",
          "text": [
            "86909/86909 [==============================] - 3s 31us/step\n",
            "Metric  loss : 0.38\n",
            "Metric  mean_absolute_error : 0.39\n"
          ],
          "name": "stdout"
        }
      ]
    },
    {
      "cell_type": "markdown",
      "metadata": {
        "id": "owT0Fwf0_N3i",
        "colab_type": "text"
      },
      "source": [
        "Si tu modelo cumple con el requerimiento guardalo con el siguiente comando:"
      ]
    },
    {
      "cell_type": "code",
      "metadata": {
        "id": "bsuyXASg-aS0",
        "colab_type": "code",
        "colab": {}
      },
      "source": [
        "model.save('PrediccionPrecios.h5')"
      ],
      "execution_count": 0,
      "outputs": []
    },
    {
      "cell_type": "markdown",
      "metadata": {
        "id": "f6Qd8SigDTs3",
        "colab_type": "text"
      },
      "source": [
        "# 5. Realiza un gráfico que evidencia la evolución de la función de pérdidas a traves de las distintas épocas de entrenamiento."
      ]
    },
    {
      "cell_type": "code",
      "metadata": {
        "id": "FigeTaWgRqow",
        "colab_type": "code",
        "outputId": "6f90d51c-cbb3-42b8-a037-9f1ff3bf2a91",
        "colab": {
          "base_uri": "https://localhost:8080/",
          "height": 406
        }
      },
      "source": [
        "import matplotlib.pyplot as plt\n",
        "%matplotlib inline\n",
        "plt.figure(figsize=(13,6))\n",
        "plt.plot(model.history.history['loss'])\n",
        "plt.plot(model.history.history['val_loss'])\n",
        "plt.title(\"Pérdidas del modelo con set de entrenamiento y pruebas por época\")\n",
        "plt.ylabel('MSE')\n",
        "plt.xlabel('Épocas')\n",
        "plt.legend(['Entrenamiento', 'Validación'], loc='upper right')\n",
        "plt.show()"
      ],
      "execution_count": 0,
      "outputs": [
        {
          "output_type": "display_data",
          "data": {
            "image/png": "[encoded data removed]",
            "text/plain": [
              "<Figure size 936x432 with 1 Axes>"
            ]
          },
          "metadata": {
            "tags": []
          }
        }
      ]
    },
    {
      "cell_type": "markdown",
      "metadata": {
        "id": "zuxUV14zEYZ9",
        "colab_type": "text"
      },
      "source": [
        "Trata de realizar predicciones con el modelo"
      ]
    },
    {
      "cell_type": "code",
      "metadata": {
        "id": "08YjMOGlE0Z4",
        "colab_type": "code",
        "outputId": "faeed01e-5389-4363-a833-064fe4005253",
        "colab": {
          "base_uri": "https://localhost:8080/",
          "height": 104
        }
      },
      "source": [
        "real=pd.DataFrame(y_train)\n",
        "predic=model.predict(pd.DataFrame(x_train_scaled))\n",
        "valores_reescalados = scaler1.inverse_transform(predic)\n",
        "pred_escal =pd.DataFrame(valores_reescalados)\n",
        "# Muestra los valores reales y las predicciones\n",
        "for i in range(0,5):\n",
        "\tprint(\"Real=%s, Prediccion=%s\" % (real[0][i], pred_escal[0][i]))"
      ],
      "execution_count": 0,
      "outputs": [
        {
          "output_type": "stream",
          "text": [
            "Real=18650, Prediccion=17206.432\n",
            "Real=9950, Prediccion=8765.462\n",
            "Real=2000, Prediccion=2758.144\n",
            "Real=7999, Prediccion=6074.4414\n",
            "Real=23999, Prediccion=24185.717\n"
          ],
          "name": "stdout"
        }
      ]
    },
    {
      "cell_type": "markdown",
      "metadata": {
        "id": "vNB6p9Kx9lFV",
        "colab_type": "text"
      },
      "source": [
        "# Happy coding!"
      ]
    }
  ]
}